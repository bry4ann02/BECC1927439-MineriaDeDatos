{
 "cells": [
  {
   "cell_type": "code",
   "execution_count": 5,
   "metadata": {},
   "outputs": [],
   "source": [
    "#Importamos las librerias que necesitaremos\n",
    "import pandas as pd\n",
    "import matplotlib.pyplot as plt\n",
    "import seaborn as sns"
   ]
  },
  {
   "cell_type": "code",
   "execution_count": 6,
   "metadata": {},
   "outputs": [],
   "source": [
    "#Se lee el dataset que usaremos\n",
    "ruta = \"C:/Users/becar/OneDrive/Escritorio/Mineria de Datos/BECC1927439-MineriaDeDatos/spotify-charts-daily-2020-10-07.csv\"\n",
    "data = pd.read_csv(ruta)"
   ]
  },
  {
   "cell_type": "code",
   "execution_count": 7,
   "metadata": {},
   "outputs": [
    {
     "name": "stdout",
     "output_type": "stream",
     "text": [
      "(201000, 6)\n"
     ]
    },
    {
     "data": {
      "text/html": [
       "<div>\n",
       "<style scoped>\n",
       "    .dataframe tbody tr th:only-of-type {\n",
       "        vertical-align: middle;\n",
       "    }\n",
       "\n",
       "    .dataframe tbody tr th {\n",
       "        vertical-align: top;\n",
       "    }\n",
       "\n",
       "    .dataframe thead th {\n",
       "        text-align: right;\n",
       "    }\n",
       "</style>\n",
       "<table border=\"1\" class=\"dataframe\">\n",
       "  <thead>\n",
       "    <tr style=\"text-align: right;\">\n",
       "      <th></th>\n",
       "      <th>Position</th>\n",
       "      <th>Track</th>\n",
       "      <th>Artist</th>\n",
       "      <th>Streams</th>\n",
       "      <th>URL</th>\n",
       "      <th>Date</th>\n",
       "    </tr>\n",
       "  </thead>\n",
       "  <tbody>\n",
       "    <tr>\n",
       "      <th>0</th>\n",
       "      <td>1</td>\n",
       "      <td>rockstar</td>\n",
       "      <td>Post Malone</td>\n",
       "      <td>3962314</td>\n",
       "      <td>https://open.spotify.com/track/7wGoVu4Dady5GV0...</td>\n",
       "      <td>2018-01-01</td>\n",
       "    </tr>\n",
       "    <tr>\n",
       "      <th>1</th>\n",
       "      <td>2</td>\n",
       "      <td>Havana</td>\n",
       "      <td>Camila Cabello</td>\n",
       "      <td>3314677</td>\n",
       "      <td>https://open.spotify.com/track/0ofbQMrRDsUaVKq...</td>\n",
       "      <td>2018-01-01</td>\n",
       "    </tr>\n",
       "    <tr>\n",
       "      <th>2</th>\n",
       "      <td>3</td>\n",
       "      <td>New Rules</td>\n",
       "      <td>Dua Lipa</td>\n",
       "      <td>2940488</td>\n",
       "      <td>https://open.spotify.com/track/2ekn2ttSfGqwhha...</td>\n",
       "      <td>2018-01-01</td>\n",
       "    </tr>\n",
       "    <tr>\n",
       "      <th>3</th>\n",
       "      <td>4</td>\n",
       "      <td>Wolves</td>\n",
       "      <td>Selena Gomez</td>\n",
       "      <td>2509878</td>\n",
       "      <td>https://open.spotify.com/track/7EmGUiUaOSGDnUU...</td>\n",
       "      <td>2018-01-01</td>\n",
       "    </tr>\n",
       "    <tr>\n",
       "      <th>4</th>\n",
       "      <td>5</td>\n",
       "      <td>Shape of You</td>\n",
       "      <td>Ed Sheeran</td>\n",
       "      <td>2439876</td>\n",
       "      <td>https://open.spotify.com/track/7qiZfU4dY1lWllz...</td>\n",
       "      <td>2018-01-01</td>\n",
       "    </tr>\n",
       "  </tbody>\n",
       "</table>\n",
       "</div>"
      ],
      "text/plain": [
       "   Position         Track          Artist  Streams   \n",
       "0         1      rockstar     Post Malone  3962314  \\\n",
       "1         2        Havana  Camila Cabello  3314677   \n",
       "2         3     New Rules        Dua Lipa  2940488   \n",
       "3         4        Wolves    Selena Gomez  2509878   \n",
       "4         5  Shape of You      Ed Sheeran  2439876   \n",
       "\n",
       "                                                 URL        Date  \n",
       "0  https://open.spotify.com/track/7wGoVu4Dady5GV0...  2018-01-01  \n",
       "1  https://open.spotify.com/track/0ofbQMrRDsUaVKq...  2018-01-01  \n",
       "2  https://open.spotify.com/track/2ekn2ttSfGqwhha...  2018-01-01  \n",
       "3  https://open.spotify.com/track/7EmGUiUaOSGDnUU...  2018-01-01  \n",
       "4  https://open.spotify.com/track/7qiZfU4dY1lWllz...  2018-01-01  "
      ]
     },
     "execution_count": 7,
     "metadata": {},
     "output_type": "execute_result"
    }
   ],
   "source": [
    "#Miramos las caracteristicas generales de nuestro dataset\n",
    "print(data.shape)\n",
    "data.head()"
   ]
  },
  {
   "cell_type": "code",
   "execution_count": 8,
   "metadata": {},
   "outputs": [
    {
     "name": "stdout",
     "output_type": "stream",
     "text": [
      "<class 'pandas.core.frame.DataFrame'>\n",
      "RangeIndex: 201000 entries, 0 to 200999\n",
      "Data columns (total 6 columns):\n",
      " #   Column    Non-Null Count   Dtype \n",
      "---  ------    --------------   ----- \n",
      " 0   Position  201000 non-null  int64 \n",
      " 1   Track     201000 non-null  object\n",
      " 2   Artist    201000 non-null  object\n",
      " 3   Streams   201000 non-null  int64 \n",
      " 4   URL       201000 non-null  object\n",
      " 5   Date      201000 non-null  object\n",
      "dtypes: int64(2), object(4)\n",
      "memory usage: 9.2+ MB\n"
     ]
    }
   ],
   "source": [
    "#Vemos las variables y categorias \n",
    "data.info()"
   ]
  },
  {
   "cell_type": "code",
   "execution_count": 9,
   "metadata": {},
   "outputs": [
    {
     "data": {
      "text/plain": [
       "<bound method DataFrame.info of         Position                   Track          Artist  Streams   \n",
       "0              1                rockstar     Post Malone  3962314  \\\n",
       "1              2                  Havana  Camila Cabello  3314677   \n",
       "2              3               New Rules        Dua Lipa  2940488   \n",
       "3              4                  Wolves    Selena Gomez  2509878   \n",
       "4              5            Shape of You      Ed Sheeran  2439876   \n",
       "...          ...                     ...             ...      ...   \n",
       "200995       196             Money Trees  Kendrick Lamar   680809   \n",
       "200996       197            Tak Tiki Tak      Harry Nach   679525   \n",
       "200997       198                    July      Noah Cyrus   667052   \n",
       "200998       199                 Bruises   Lewis Capaldi   666575   \n",
       "200999       200  exile (feat. Bon Iver)    Taylor Swift   665377   \n",
       "\n",
       "                                                      URL        Date  \n",
       "0       https://open.spotify.com/track/7wGoVu4Dady5GV0...  2018-01-01  \n",
       "1       https://open.spotify.com/track/0ofbQMrRDsUaVKq...  2018-01-01  \n",
       "2       https://open.spotify.com/track/2ekn2ttSfGqwhha...  2018-01-01  \n",
       "3       https://open.spotify.com/track/7EmGUiUaOSGDnUU...  2018-01-01  \n",
       "4       https://open.spotify.com/track/7qiZfU4dY1lWllz...  2018-01-01  \n",
       "...                                                   ...         ...  \n",
       "200995  https://open.spotify.com/track/2HbKqm4o0w5wEeE...  2020-10-01  \n",
       "200996  https://open.spotify.com/track/7gwwt1IaAWwmB7a...  2020-10-01  \n",
       "200997  https://open.spotify.com/track/6J2LdBN97cDWn0M...  2020-10-01  \n",
       "200998  https://open.spotify.com/track/4Of7rzpRpV1mWRb...  2020-10-01  \n",
       "200999  https://open.spotify.com/track/4pvb0WLRcMtbPGm...  2020-10-01  \n",
       "\n",
       "[201000 rows x 6 columns]>"
      ]
     },
     "execution_count": 9,
     "metadata": {},
     "output_type": "execute_result"
    }
   ],
   "source": [
    "#Se eliminan las celdas con datos NULL\n",
    "data.dropna(inplace=True)\n",
    "data.info"
   ]
  },
  {
   "cell_type": "code",
   "execution_count": 10,
   "metadata": {},
   "outputs": [
    {
     "name": "stdout",
     "output_type": "stream",
     "text": [
      "<class 'pandas.core.frame.DataFrame'>\n",
      "RangeIndex: 201000 entries, 0 to 200999\n",
      "Data columns (total 6 columns):\n",
      " #   Column    Non-Null Count   Dtype \n",
      "---  ------    --------------   ----- \n",
      " 0   Position  201000 non-null  int64 \n",
      " 1   Track     201000 non-null  object\n",
      " 2   Artist    201000 non-null  object\n",
      " 3   Streams   201000 non-null  int64 \n",
      " 4   URL       201000 non-null  object\n",
      " 5   Date      201000 non-null  object\n",
      "dtypes: int64(2), object(4)\n",
      "memory usage: 9.2+ MB\n"
     ]
    }
   ],
   "source": [
    "data.info()"
   ]
  },
  {
   "cell_type": "code",
   "execution_count": 13,
   "metadata": {},
   "outputs": [
    {
     "name": "stdout",
     "output_type": "stream",
     "text": [
      "Columna Position: 200 subniveles\n",
      "Columna Track: 3788 subniveles\n",
      "Columna Artist: 847 subniveles\n",
      "Columna Streams: 184531 subniveles\n",
      "Columna URL: 4570 subniveles\n",
      "Columna Date: 1005 subniveles\n"
     ]
    }
   ],
   "source": [
    "#Conteo de los subniveles por columnas\n",
    "cols_cat = ['Position','Track','Artist','Streams','URL','Date']\n",
    "\n",
    "for col in cols_cat: \n",
    "    print(f'Columna {col}: {data[col].nunique()} subniveles')"
   ]
  },
  {
   "cell_type": "code",
   "execution_count": 15,
   "metadata": {},
   "outputs": [
    {
     "name": "stdout",
     "output_type": "stream",
     "text": [
      "Tamaño antes de eliminar las filas repetidas: (201000, 6)\n",
      "Tamaño despues de eliminar las filas repetidas: (201000, 6)\n"
     ]
    }
   ],
   "source": [
    "#Eliminamos las filas repetidas\n",
    "print(f'Tamaño antes de eliminar las filas repetidas: {data.shape}')\n",
    "data.drop_duplicates(inplace=True)\n",
    "print(f'Tamaño despues de eliminar las filas repetidas: {data.shape}')"
   ]
  },
  {
   "cell_type": "code",
   "execution_count": 40,
   "metadata": {},
   "outputs": [
    {
     "data": {
      "text/html": [
       "<div>\n",
       "<style scoped>\n",
       "    .dataframe tbody tr th:only-of-type {\n",
       "        vertical-align: middle;\n",
       "    }\n",
       "\n",
       "    .dataframe tbody tr th {\n",
       "        vertical-align: top;\n",
       "    }\n",
       "\n",
       "    .dataframe thead th {\n",
       "        text-align: right;\n",
       "    }\n",
       "</style>\n",
       "<table border=\"1\" class=\"dataframe\">\n",
       "  <thead>\n",
       "    <tr style=\"text-align: right;\">\n",
       "      <th></th>\n",
       "      <th>Position</th>\n",
       "      <th>Track</th>\n",
       "      <th>Artist</th>\n",
       "      <th>Streams</th>\n",
       "      <th>URL</th>\n",
       "      <th>Date</th>\n",
       "    </tr>\n",
       "  </thead>\n",
       "  <tbody>\n",
       "    <tr>\n",
       "      <th>0</th>\n",
       "      <td>1</td>\n",
       "      <td>rockstar</td>\n",
       "      <td>Post Malone</td>\n",
       "      <td>3962314</td>\n",
       "      <td>https://open.spotify.com/track/7wGoVu4Dady5GV0...</td>\n",
       "      <td>2018-01-01</td>\n",
       "    </tr>\n",
       "    <tr>\n",
       "      <th>200</th>\n",
       "      <td>1</td>\n",
       "      <td>rockstar</td>\n",
       "      <td>Post Malone</td>\n",
       "      <td>4072359</td>\n",
       "      <td>https://open.spotify.com/track/7wGoVu4Dady5GV0...</td>\n",
       "      <td>2018-01-02</td>\n",
       "    </tr>\n",
       "    <tr>\n",
       "      <th>201</th>\n",
       "      <td>2</td>\n",
       "      <td>Havana</td>\n",
       "      <td>Camila Cabello</td>\n",
       "      <td>3512248</td>\n",
       "      <td>https://open.spotify.com/track/0ofbQMrRDsUaVKq...</td>\n",
       "      <td>2018-01-02</td>\n",
       "    </tr>\n",
       "    <tr>\n",
       "      <th>400</th>\n",
       "      <td>1</td>\n",
       "      <td>rockstar</td>\n",
       "      <td>Post Malone</td>\n",
       "      <td>4194625</td>\n",
       "      <td>https://open.spotify.com/track/7wGoVu4Dady5GV0...</td>\n",
       "      <td>2018-01-03</td>\n",
       "    </tr>\n",
       "    <tr>\n",
       "      <th>401</th>\n",
       "      <td>2</td>\n",
       "      <td>Havana</td>\n",
       "      <td>Camila Cabello</td>\n",
       "      <td>3563206</td>\n",
       "      <td>https://open.spotify.com/track/0ofbQMrRDsUaVKq...</td>\n",
       "      <td>2018-01-03</td>\n",
       "    </tr>\n",
       "    <tr>\n",
       "      <th>...</th>\n",
       "      <td>...</td>\n",
       "      <td>...</td>\n",
       "      <td>...</td>\n",
       "      <td>...</td>\n",
       "      <td>...</td>\n",
       "      <td>...</td>\n",
       "    </tr>\n",
       "    <tr>\n",
       "      <th>200800</th>\n",
       "      <td>1</td>\n",
       "      <td>Mood (feat. Iann Dior)</td>\n",
       "      <td>24kGoldn</td>\n",
       "      <td>5681338</td>\n",
       "      <td>https://open.spotify.com/track/3tjFYV6RSFtuktY...</td>\n",
       "      <td>2020-10-01</td>\n",
       "    </tr>\n",
       "    <tr>\n",
       "      <th>200801</th>\n",
       "      <td>2</td>\n",
       "      <td>WAP (feat. Megan Thee Stallion)</td>\n",
       "      <td>Cardi B</td>\n",
       "      <td>4786211</td>\n",
       "      <td>https://open.spotify.com/track/4Oun2ylbjFKMPTi...</td>\n",
       "      <td>2020-10-01</td>\n",
       "    </tr>\n",
       "    <tr>\n",
       "      <th>200802</th>\n",
       "      <td>3</td>\n",
       "      <td>Lemonade (feat. Gunna, Don Toliver &amp; NAV)</td>\n",
       "      <td>Internet Money</td>\n",
       "      <td>4502404</td>\n",
       "      <td>https://open.spotify.com/track/7hxHWCCAIIxFLCz...</td>\n",
       "      <td>2020-10-01</td>\n",
       "    </tr>\n",
       "    <tr>\n",
       "      <th>200803</th>\n",
       "      <td>4</td>\n",
       "      <td>Hawái</td>\n",
       "      <td>Maluma</td>\n",
       "      <td>4066369</td>\n",
       "      <td>https://open.spotify.com/track/1yoMvmasuxZfqHE...</td>\n",
       "      <td>2020-10-01</td>\n",
       "    </tr>\n",
       "    <tr>\n",
       "      <th>200804</th>\n",
       "      <td>5</td>\n",
       "      <td>Dynamite</td>\n",
       "      <td>BTS</td>\n",
       "      <td>4016787</td>\n",
       "      <td>https://open.spotify.com/track/0t1kP63rueHleOh...</td>\n",
       "      <td>2020-10-01</td>\n",
       "    </tr>\n",
       "  </tbody>\n",
       "</table>\n",
       "<p>5460 rows × 6 columns</p>\n",
       "</div>"
      ],
      "text/plain": [
       "        Position                                      Track          Artist   \n",
       "0              1                                   rockstar     Post Malone  \\\n",
       "200            1                                   rockstar     Post Malone   \n",
       "201            2                                     Havana  Camila Cabello   \n",
       "400            1                                   rockstar     Post Malone   \n",
       "401            2                                     Havana  Camila Cabello   \n",
       "...          ...                                        ...             ...   \n",
       "200800         1                     Mood (feat. Iann Dior)        24kGoldn   \n",
       "200801         2            WAP (feat. Megan Thee Stallion)         Cardi B   \n",
       "200802         3  Lemonade (feat. Gunna, Don Toliver & NAV)  Internet Money   \n",
       "200803         4                                      Hawái          Maluma   \n",
       "200804         5                                   Dynamite             BTS   \n",
       "\n",
       "        Streams                                                URL       Date  \n",
       "0       3962314  https://open.spotify.com/track/7wGoVu4Dady5GV0... 2018-01-01  \n",
       "200     4072359  https://open.spotify.com/track/7wGoVu4Dady5GV0... 2018-01-02  \n",
       "201     3512248  https://open.spotify.com/track/0ofbQMrRDsUaVKq... 2018-01-02  \n",
       "400     4194625  https://open.spotify.com/track/7wGoVu4Dady5GV0... 2018-01-03  \n",
       "401     3563206  https://open.spotify.com/track/0ofbQMrRDsUaVKq... 2018-01-03  \n",
       "...         ...                                                ...        ...  \n",
       "200800  5681338  https://open.spotify.com/track/3tjFYV6RSFtuktY... 2020-10-01  \n",
       "200801  4786211  https://open.spotify.com/track/4Oun2ylbjFKMPTi... 2020-10-01  \n",
       "200802  4502404  https://open.spotify.com/track/7hxHWCCAIIxFLCz... 2020-10-01  \n",
       "200803  4066369  https://open.spotify.com/track/1yoMvmasuxZfqHE... 2020-10-01  \n",
       "200804  4016787  https://open.spotify.com/track/0t1kP63rueHleOh... 2020-10-01  \n",
       "\n",
       "[5460 rows x 6 columns]"
      ]
     },
     "execution_count": 40,
     "metadata": {},
     "output_type": "execute_result"
    }
   ],
   "source": [
    "data[data['Streams'] >= 3500000]"
   ]
  }
 ],
 "metadata": {
  "kernelspec": {
   "display_name": "Python 3",
   "language": "python",
   "name": "python3"
  },
  "language_info": {
   "codemirror_mode": {
    "name": "ipython",
    "version": 3
   },
   "file_extension": ".py",
   "mimetype": "text/x-python",
   "name": "python",
   "nbconvert_exporter": "python",
   "pygments_lexer": "ipython3",
   "version": "3.11.2"
  },
  "orig_nbformat": 4
 },
 "nbformat": 4,
 "nbformat_minor": 2
}
