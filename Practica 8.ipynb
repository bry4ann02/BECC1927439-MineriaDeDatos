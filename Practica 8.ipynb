{
 "cells": [
  {
   "cell_type": "markdown",
   "metadata": {},
   "source": []
  },
  {
   "cell_type": "code",
   "execution_count": 17,
   "metadata": {},
   "outputs": [],
   "source": [
    "import numpy as np \n",
    "import pandas as pd\n",
    "import statsmodels.api as sm\n",
    "import matplotlib.pyplot as plt \n",
    "import seaborn as sns\n",
    "sns.set()\n",
    "from sklearn.cluster import KMeans"
   ]
  },
  {
   "cell_type": "code",
   "execution_count": 18,
   "metadata": {},
   "outputs": [
    {
     "data": {
      "text/html": [
       "<div>\n",
       "<style scoped>\n",
       "    .dataframe tbody tr th:only-of-type {\n",
       "        vertical-align: middle;\n",
       "    }\n",
       "\n",
       "    .dataframe tbody tr th {\n",
       "        vertical-align: top;\n",
       "    }\n",
       "\n",
       "    .dataframe thead th {\n",
       "        text-align: right;\n",
       "    }\n",
       "</style>\n",
       "<table border=\"1\" class=\"dataframe\">\n",
       "  <thead>\n",
       "    <tr style=\"text-align: right;\">\n",
       "      <th></th>\n",
       "      <th>club</th>\n",
       "      <th>last_name</th>\n",
       "      <th>first_name</th>\n",
       "      <th>position</th>\n",
       "      <th>base_salary</th>\n",
       "      <th>guaranteed_compensation</th>\n",
       "      <th>year</th>\n",
       "      <th>conference</th>\n",
       "    </tr>\n",
       "  </thead>\n",
       "  <tbody>\n",
       "    <tr>\n",
       "      <th>0</th>\n",
       "      <td>Vancouver Whitecaps</td>\n",
       "      <td>Abdallah</td>\n",
       "      <td>Aminu</td>\n",
       "      <td>M</td>\n",
       "      <td>46500.0</td>\n",
       "      <td>46500.00</td>\n",
       "      <td>2013</td>\n",
       "      <td>Western</td>\n",
       "    </tr>\n",
       "    <tr>\n",
       "      <th>1</th>\n",
       "      <td>FC Dallas</td>\n",
       "      <td>Acosta</td>\n",
       "      <td>Kellyn</td>\n",
       "      <td>M</td>\n",
       "      <td>46500.0</td>\n",
       "      <td>70500.00</td>\n",
       "      <td>2013</td>\n",
       "      <td>Western</td>\n",
       "    </tr>\n",
       "    <tr>\n",
       "      <th>2</th>\n",
       "      <td>Vancouver Whitecaps</td>\n",
       "      <td>Adekugbe</td>\n",
       "      <td>Samuel</td>\n",
       "      <td>D</td>\n",
       "      <td>46500.0</td>\n",
       "      <td>51500.00</td>\n",
       "      <td>2013</td>\n",
       "      <td>Western</td>\n",
       "    </tr>\n",
       "    <tr>\n",
       "      <th>3</th>\n",
       "      <td>Toronto FC</td>\n",
       "      <td>Agbossoumonde</td>\n",
       "      <td>Gale</td>\n",
       "      <td>D</td>\n",
       "      <td>46500.0</td>\n",
       "      <td>53166.67</td>\n",
       "      <td>2013</td>\n",
       "      <td>Eastern</td>\n",
       "    </tr>\n",
       "    <tr>\n",
       "      <th>4</th>\n",
       "      <td>New England Revolution</td>\n",
       "      <td>Agudelo</td>\n",
       "      <td>Juan</td>\n",
       "      <td>F</td>\n",
       "      <td>145000.0</td>\n",
       "      <td>175000.00</td>\n",
       "      <td>2013</td>\n",
       "      <td>Eastern</td>\n",
       "    </tr>\n",
       "    <tr>\n",
       "      <th>...</th>\n",
       "      <td>...</td>\n",
       "      <td>...</td>\n",
       "      <td>...</td>\n",
       "      <td>...</td>\n",
       "      <td>...</td>\n",
       "      <td>...</td>\n",
       "      <td>...</td>\n",
       "      <td>...</td>\n",
       "    </tr>\n",
       "    <tr>\n",
       "      <th>10368</th>\n",
       "      <td>Vancouver Whitecaps</td>\n",
       "      <td>Scoaupssa e Silva</td>\n",
       "      <td>Caio Alexand</td>\n",
       "      <td>M</td>\n",
       "      <td>500000.0</td>\n",
       "      <td>562500.00</td>\n",
       "      <td>2022</td>\n",
       "      <td>Western</td>\n",
       "    </tr>\n",
       "    <tr>\n",
       "      <th>10369</th>\n",
       "      <td>Vancouver Whitecaps</td>\n",
       "      <td>Tceaibpesrt</td>\n",
       "      <td>Russell</td>\n",
       "      <td>M</td>\n",
       "      <td>400000.0</td>\n",
       "      <td>449375.00</td>\n",
       "      <td>2022</td>\n",
       "      <td>Western</td>\n",
       "    </tr>\n",
       "    <tr>\n",
       "      <th>10370</th>\n",
       "      <td>Vancouver Whitecaps</td>\n",
       "      <td>Vceaspeslinovic</td>\n",
       "      <td>Ranko</td>\n",
       "      <td>D</td>\n",
       "      <td>405000.0</td>\n",
       "      <td>490500.00</td>\n",
       "      <td>2022</td>\n",
       "      <td>Western</td>\n",
       "    </tr>\n",
       "    <tr>\n",
       "      <th>10371</th>\n",
       "      <td>Vancouver Whitecaps</td>\n",
       "      <td>Vcitaeps</td>\n",
       "      <td>Pedro</td>\n",
       "      <td>M</td>\n",
       "      <td>556000.0</td>\n",
       "      <td>609997.00</td>\n",
       "      <td>2022</td>\n",
       "      <td>Western</td>\n",
       "    </tr>\n",
       "    <tr>\n",
       "      <th>10372</th>\n",
       "      <td>Vancouver Whitecaps</td>\n",
       "      <td>Wcahpites</td>\n",
       "      <td>Brian</td>\n",
       "      <td>F</td>\n",
       "      <td>456000.0</td>\n",
       "      <td>456000.00</td>\n",
       "      <td>2022</td>\n",
       "      <td>Western</td>\n",
       "    </tr>\n",
       "  </tbody>\n",
       "</table>\n",
       "<p>10373 rows × 8 columns</p>\n",
       "</div>"
      ],
      "text/plain": [
       "                         club          last_name    first_name position   \n",
       "0         Vancouver Whitecaps           Abdallah         Aminu        M  \\\n",
       "1                   FC Dallas             Acosta        Kellyn        M   \n",
       "2         Vancouver Whitecaps           Adekugbe        Samuel        D   \n",
       "3                  Toronto FC      Agbossoumonde          Gale        D   \n",
       "4      New England Revolution            Agudelo          Juan        F   \n",
       "...                       ...                ...           ...      ...   \n",
       "10368     Vancouver Whitecaps  Scoaupssa e Silva  Caio Alexand        M   \n",
       "10369     Vancouver Whitecaps        Tceaibpesrt       Russell        M   \n",
       "10370     Vancouver Whitecaps    Vceaspeslinovic         Ranko        D   \n",
       "10371     Vancouver Whitecaps           Vcitaeps         Pedro        M   \n",
       "10372     Vancouver Whitecaps          Wcahpites         Brian        F   \n",
       "\n",
       "       base_salary  guaranteed_compensation  year conference  \n",
       "0          46500.0                 46500.00  2013    Western  \n",
       "1          46500.0                 70500.00  2013    Western  \n",
       "2          46500.0                 51500.00  2013    Western  \n",
       "3          46500.0                 53166.67  2013    Eastern  \n",
       "4         145000.0                175000.00  2013    Eastern  \n",
       "...            ...                      ...   ...        ...  \n",
       "10368     500000.0                562500.00  2022    Western  \n",
       "10369     400000.0                449375.00  2022    Western  \n",
       "10370     405000.0                490500.00  2022    Western  \n",
       "10371     556000.0                609997.00  2022    Western  \n",
       "10372     456000.0                456000.00  2022    Western  \n",
       "\n",
       "[10373 rows x 8 columns]"
      ]
     },
     "execution_count": 18,
     "metadata": {},
     "output_type": "execute_result"
    }
   ],
   "source": [
    "data = pd.read_csv(\"mls_salaries_masterlist.csv\")\n",
    "data"
   ]
  },
  {
   "cell_type": "code",
   "execution_count": 19,
   "metadata": {},
   "outputs": [
    {
     "data": {
      "text/plain": [
       "(9382, 8)"
      ]
     },
     "execution_count": 19,
     "metadata": {},
     "output_type": "execute_result"
    }
   ],
   "source": [
    "#Se eliminan los datos NA\n",
    "data.isna().sum()\n",
    "data.shape\n",
    "data = data.dropna()\n",
    "data.shape"
   ]
  },
  {
   "cell_type": "code",
   "execution_count": 20,
   "metadata": {},
   "outputs": [
    {
     "data": {
      "text/plain": [
       "<matplotlib.collections.PathCollection at 0x22b8d4c14d0>"
      ]
     },
     "execution_count": 20,
     "metadata": {},
     "output_type": "execute_result"
    },
    {
     "data": {
      "image/png": "[encoded data removed]",
      "text/plain": [
       "<Figure size 640x480 with 1 Axes>"
      ]
     },
     "metadata": {},
     "output_type": "display_data"
    }
   ],
   "source": [
    "plt.scatter(data[\"year\"], data[\"base_salary\"],\n",
    "             marker=\".\", s=150, color=\"green\", label=\"Western Salaries\")"
   ]
  },
  {
   "cell_type": "code",
   "execution_count": 28,
   "metadata": {},
   "outputs": [
    {
     "data": {
      "text/html": [
       "<div>\n",
       "<style scoped>\n",
       "    .dataframe tbody tr th:only-of-type {\n",
       "        vertical-align: middle;\n",
       "    }\n",
       "\n",
       "    .dataframe tbody tr th {\n",
       "        vertical-align: top;\n",
       "    }\n",
       "\n",
       "    .dataframe thead th {\n",
       "        text-align: right;\n",
       "    }\n",
       "</style>\n",
       "<table border=\"1\" class=\"dataframe\">\n",
       "  <thead>\n",
       "    <tr style=\"text-align: right;\">\n",
       "      <th></th>\n",
       "      <th>base_salary</th>\n",
       "      <th>guaranteed_compensation</th>\n",
       "      <th>year</th>\n",
       "    </tr>\n",
       "  </thead>\n",
       "  <tbody>\n",
       "    <tr>\n",
       "      <th>0</th>\n",
       "      <td>46500.0</td>\n",
       "      <td>46500.00</td>\n",
       "      <td>2013</td>\n",
       "    </tr>\n",
       "    <tr>\n",
       "      <th>1</th>\n",
       "      <td>46500.0</td>\n",
       "      <td>70500.00</td>\n",
       "      <td>2013</td>\n",
       "    </tr>\n",
       "    <tr>\n",
       "      <th>2</th>\n",
       "      <td>46500.0</td>\n",
       "      <td>51500.00</td>\n",
       "      <td>2013</td>\n",
       "    </tr>\n",
       "    <tr>\n",
       "      <th>3</th>\n",
       "      <td>46500.0</td>\n",
       "      <td>53166.67</td>\n",
       "      <td>2013</td>\n",
       "    </tr>\n",
       "    <tr>\n",
       "      <th>4</th>\n",
       "      <td>145000.0</td>\n",
       "      <td>175000.00</td>\n",
       "      <td>2013</td>\n",
       "    </tr>\n",
       "    <tr>\n",
       "      <th>...</th>\n",
       "      <td>...</td>\n",
       "      <td>...</td>\n",
       "      <td>...</td>\n",
       "    </tr>\n",
       "    <tr>\n",
       "      <th>10368</th>\n",
       "      <td>500000.0</td>\n",
       "      <td>562500.00</td>\n",
       "      <td>2022</td>\n",
       "    </tr>\n",
       "    <tr>\n",
       "      <th>10369</th>\n",
       "      <td>400000.0</td>\n",
       "      <td>449375.00</td>\n",
       "      <td>2022</td>\n",
       "    </tr>\n",
       "    <tr>\n",
       "      <th>10370</th>\n",
       "      <td>405000.0</td>\n",
       "      <td>490500.00</td>\n",
       "      <td>2022</td>\n",
       "    </tr>\n",
       "    <tr>\n",
       "      <th>10371</th>\n",
       "      <td>556000.0</td>\n",
       "      <td>609997.00</td>\n",
       "      <td>2022</td>\n",
       "    </tr>\n",
       "    <tr>\n",
       "      <th>10372</th>\n",
       "      <td>456000.0</td>\n",
       "      <td>456000.00</td>\n",
       "      <td>2022</td>\n",
       "    </tr>\n",
       "  </tbody>\n",
       "</table>\n",
       "<p>9382 rows × 3 columns</p>\n",
       "</div>"
      ],
      "text/plain": [
       "       base_salary  guaranteed_compensation  year\n",
       "0          46500.0                 46500.00  2013\n",
       "1          46500.0                 70500.00  2013\n",
       "2          46500.0                 51500.00  2013\n",
       "3          46500.0                 53166.67  2013\n",
       "4         145000.0                175000.00  2013\n",
       "...            ...                      ...   ...\n",
       "10368     500000.0                562500.00  2022\n",
       "10369     400000.0                449375.00  2022\n",
       "10370     405000.0                490500.00  2022\n",
       "10371     556000.0                609997.00  2022\n",
       "10372     456000.0                456000.00  2022\n",
       "\n",
       "[9382 rows x 3 columns]"
      ]
     },
     "execution_count": 28,
     "metadata": {},
     "output_type": "execute_result"
    }
   ],
   "source": [
    "x = data.iloc[:, 4:7]\n",
    "x"
   ]
  },
  {
   "cell_type": "code",
   "execution_count": 45,
   "metadata": {},
   "outputs": [
    {
     "name": "stderr",
     "output_type": "stream",
     "text": [
      "c:\\Users\\becar\\AppData\\Local\\Programs\\Python\\Python311\\Lib\\site-packages\\sklearn\\cluster\\_kmeans.py:1416: FutureWarning: The default value of `n_init` will change from 10 to 'auto' in 1.4. Set the value of `n_init` explicitly to suppress the warning\n",
      "  super()._check_params_vs_input(X, default_n_init=10)\n",
      "c:\\Users\\becar\\AppData\\Local\\Programs\\Python\\Python311\\Lib\\site-packages\\sklearn\\cluster\\_kmeans.py:1416: FutureWarning: The default value of `n_init` will change from 10 to 'auto' in 1.4. Set the value of `n_init` explicitly to suppress the warning\n",
      "  super()._check_params_vs_input(X, default_n_init=10)\n"
     ]
    },
    {
     "data": {
      "text/plain": [
       "array([0, 0, 0, ..., 3, 3, 3])"
      ]
     },
     "execution_count": 45,
     "metadata": {},
     "output_type": "execute_result"
    }
   ],
   "source": [
    "#Objeto Kmeans\n",
    "#K=4\n",
    "\n",
    "kmeans=KMeans(n_clusters=4)\n",
    "kmeans.fit(x)\n",
    "identified_cluster = kmeans.fit_predict(x)\n",
    "identified_cluster"
   ]
  },
  {
   "cell_type": "code",
   "execution_count": 46,
   "metadata": {},
   "outputs": [
    {
     "data": {
      "text/plain": [
       "<matplotlib.collections.PathCollection at 0x22bd215a8d0>"
      ]
     },
     "execution_count": 46,
     "metadata": {},
     "output_type": "execute_result"
    },
    {
     "data": {
      "image/png": "[encoded data removed]",
      "text/plain": [
       "<Figure size 640x480 with 1 Axes>"
      ]
     },
     "metadata": {},
     "output_type": "display_data"
    }
   ],
   "source": [
    "data_with_clusters = data.copy()\n",
    "data_with_clusters['Clusters'] = identified_cluster\n",
    "plt.scatter(data_with_clusters['base_salary'], data_with_clusters['year'], c=data_with_clusters['Clusters'], cmap='rainbow')"
   ]
  },
  {
   "cell_type": "code",
   "execution_count": 49,
   "metadata": {},
   "outputs": [
    {
     "name": "stderr",
     "output_type": "stream",
     "text": [
      "c:\\Users\\becar\\AppData\\Local\\Programs\\Python\\Python311\\Lib\\site-packages\\sklearn\\base.py:465: UserWarning: X does not have valid feature names, but KMeans was fitted with feature names\n",
      "  warnings.warn(\n"
     ]
    },
    {
     "ename": "ValueError",
     "evalue": "X has 2 features, but KMeans is expecting 3 features as input.",
     "output_type": "error",
     "traceback": [
      "\u001b[1;31m---------------------------------------------------------------------------\u001b[0m",
      "\u001b[1;31mValueError\u001b[0m                                Traceback (most recent call last)",
      "\u001b[1;32mc:\\Users\\becar\\OneDrive\\Escritorio\\Mineria de Datos\\BECC1927439-MineriaDeDatos\\Practica 8.ipynb Cell 9\u001b[0m line \u001b[0;36m7\n\u001b[0;32m      <a href='vscode-notebook-cell:/c%3A/Users/becar/OneDrive/Escritorio/Mineria%20de%20Datos/BECC1927439-MineriaDeDatos/Practica%208.ipynb#X13sZmlsZQ%3D%3D?line=4'>5</a>\u001b[0m xx, yy \u001b[39m=\u001b[39m np\u001b[39m.\u001b[39mmeshgrid(np\u001b[39m.\u001b[39marange(x_min, x_max, h), np\u001b[39m.\u001b[39marange(y_min, y_max, h)) \u001b[39m#crear region\u001b[39;00m\n\u001b[0;32m      <a href='vscode-notebook-cell:/c%3A/Users/becar/OneDrive/Escritorio/Mineria%20de%20Datos/BECC1927439-MineriaDeDatos/Practica%208.ipynb#X13sZmlsZQ%3D%3D?line=5'>6</a>\u001b[0m stack1 \u001b[39m=\u001b[39m np\u001b[39m.\u001b[39mdstack((xx\u001b[39m.\u001b[39mflatten(), yy\u001b[39m.\u001b[39mflatten()))[\u001b[39m0\u001b[39m,:,:]\n\u001b[1;32m----> <a href='vscode-notebook-cell:/c%3A/Users/becar/OneDrive/Escritorio/Mineria%20de%20Datos/BECC1927439-MineriaDeDatos/Practica%208.ipynb#X13sZmlsZQ%3D%3D?line=6'>7</a>\u001b[0m y_pred \u001b[39m=\u001b[39m kmeans\u001b[39m.\u001b[39;49mpredict(stack1) \u001b[39m#clusterizar region\u001b[39;00m\n\u001b[0;32m      <a href='vscode-notebook-cell:/c%3A/Users/becar/OneDrive/Escritorio/Mineria%20de%20Datos/BECC1927439-MineriaDeDatos/Practica%208.ipynb#X13sZmlsZQ%3D%3D?line=7'>8</a>\u001b[0m vb \u001b[39m=\u001b[39m y_pred\u001b[39m.\u001b[39mreshape(np\u001b[39m.\u001b[39mshape(xx))\n\u001b[0;32m      <a href='vscode-notebook-cell:/c%3A/Users/becar/OneDrive/Escritorio/Mineria%20de%20Datos/BECC1927439-MineriaDeDatos/Practica%208.ipynb#X13sZmlsZQ%3D%3D?line=8'>9</a>\u001b[0m plt\u001b[39m.\u001b[39mpcolormesh(xx, yy, vb, cmap \u001b[39m=\u001b[39m \u001b[39m'\u001b[39m\u001b[39mtab20\u001b[39m\u001b[39m'\u001b[39m)\n",
      "File \u001b[1;32mc:\\Users\\becar\\AppData\\Local\\Programs\\Python\\Python311\\Lib\\site-packages\\sklearn\\cluster\\_kmeans.py:1098\u001b[0m, in \u001b[0;36m_BaseKMeans.predict\u001b[1;34m(self, X, sample_weight)\u001b[0m\n\u001b[0;32m   1072\u001b[0m \u001b[39m\u001b[39m\u001b[39m\"\"\"Predict the closest cluster each sample in X belongs to.\u001b[39;00m\n\u001b[0;32m   1073\u001b[0m \n\u001b[0;32m   1074\u001b[0m \u001b[39mIn the vector quantization literature, `cluster_centers_` is called\u001b[39;00m\n\u001b[1;32m   (...)\u001b[0m\n\u001b[0;32m   1094\u001b[0m \u001b[39m    Index of the cluster each sample belongs to.\u001b[39;00m\n\u001b[0;32m   1095\u001b[0m \u001b[39m\"\"\"\u001b[39;00m\n\u001b[0;32m   1096\u001b[0m check_is_fitted(\u001b[39mself\u001b[39m)\n\u001b[1;32m-> 1098\u001b[0m X \u001b[39m=\u001b[39m \u001b[39mself\u001b[39;49m\u001b[39m.\u001b[39;49m_check_test_data(X)\n\u001b[0;32m   1099\u001b[0m \u001b[39mif\u001b[39;00m \u001b[39mnot\u001b[39;00m (\u001b[39misinstance\u001b[39m(sample_weight, \u001b[39mstr\u001b[39m) \u001b[39mand\u001b[39;00m sample_weight \u001b[39m==\u001b[39m \u001b[39m\"\u001b[39m\u001b[39mdeprecated\u001b[39m\u001b[39m\"\u001b[39m):\n\u001b[0;32m   1100\u001b[0m     warnings\u001b[39m.\u001b[39mwarn(\n\u001b[0;32m   1101\u001b[0m         (\n\u001b[0;32m   1102\u001b[0m             \u001b[39m\"\u001b[39m\u001b[39m'\u001b[39m\u001b[39msample_weight\u001b[39m\u001b[39m'\u001b[39m\u001b[39m was deprecated in version 1.3 and \u001b[39m\u001b[39m\"\u001b[39m\n\u001b[1;32m   (...)\u001b[0m\n\u001b[0;32m   1105\u001b[0m         \u001b[39mFutureWarning\u001b[39;00m,\n\u001b[0;32m   1106\u001b[0m     )\n",
      "File \u001b[1;32mc:\\Users\\becar\\AppData\\Local\\Programs\\Python\\Python311\\Lib\\site-packages\\sklearn\\cluster\\_kmeans.py:950\u001b[0m, in \u001b[0;36m_BaseKMeans._check_test_data\u001b[1;34m(self, X)\u001b[0m\n\u001b[0;32m    949\u001b[0m \u001b[39mdef\u001b[39;00m \u001b[39m_check_test_data\u001b[39m(\u001b[39mself\u001b[39m, X):\n\u001b[1;32m--> 950\u001b[0m     X \u001b[39m=\u001b[39m \u001b[39mself\u001b[39;49m\u001b[39m.\u001b[39;49m_validate_data(\n\u001b[0;32m    951\u001b[0m         X,\n\u001b[0;32m    952\u001b[0m         accept_sparse\u001b[39m=\u001b[39;49m\u001b[39m\"\u001b[39;49m\u001b[39mcsr\u001b[39;49m\u001b[39m\"\u001b[39;49m,\n\u001b[0;32m    953\u001b[0m         reset\u001b[39m=\u001b[39;49m\u001b[39mFalse\u001b[39;49;00m,\n\u001b[0;32m    954\u001b[0m         dtype\u001b[39m=\u001b[39;49m[np\u001b[39m.\u001b[39;49mfloat64, np\u001b[39m.\u001b[39;49mfloat32],\n\u001b[0;32m    955\u001b[0m         order\u001b[39m=\u001b[39;49m\u001b[39m\"\u001b[39;49m\u001b[39mC\u001b[39;49m\u001b[39m\"\u001b[39;49m,\n\u001b[0;32m    956\u001b[0m         accept_large_sparse\u001b[39m=\u001b[39;49m\u001b[39mFalse\u001b[39;49;00m,\n\u001b[0;32m    957\u001b[0m     )\n\u001b[0;32m    958\u001b[0m     \u001b[39mreturn\u001b[39;00m X\n",
      "File \u001b[1;32mc:\\Users\\becar\\AppData\\Local\\Programs\\Python\\Python311\\Lib\\site-packages\\sklearn\\base.py:626\u001b[0m, in \u001b[0;36mBaseEstimator._validate_data\u001b[1;34m(self, X, y, reset, validate_separately, cast_to_ndarray, **check_params)\u001b[0m\n\u001b[0;32m    623\u001b[0m     out \u001b[39m=\u001b[39m X, y\n\u001b[0;32m    625\u001b[0m \u001b[39mif\u001b[39;00m \u001b[39mnot\u001b[39;00m no_val_X \u001b[39mand\u001b[39;00m check_params\u001b[39m.\u001b[39mget(\u001b[39m\"\u001b[39m\u001b[39mensure_2d\u001b[39m\u001b[39m\"\u001b[39m, \u001b[39mTrue\u001b[39;00m):\n\u001b[1;32m--> 626\u001b[0m     \u001b[39mself\u001b[39;49m\u001b[39m.\u001b[39;49m_check_n_features(X, reset\u001b[39m=\u001b[39;49mreset)\n\u001b[0;32m    628\u001b[0m \u001b[39mreturn\u001b[39;00m out\n",
      "File \u001b[1;32mc:\\Users\\becar\\AppData\\Local\\Programs\\Python\\Python311\\Lib\\site-packages\\sklearn\\base.py:415\u001b[0m, in \u001b[0;36mBaseEstimator._check_n_features\u001b[1;34m(self, X, reset)\u001b[0m\n\u001b[0;32m    412\u001b[0m     \u001b[39mreturn\u001b[39;00m\n\u001b[0;32m    414\u001b[0m \u001b[39mif\u001b[39;00m n_features \u001b[39m!=\u001b[39m \u001b[39mself\u001b[39m\u001b[39m.\u001b[39mn_features_in_:\n\u001b[1;32m--> 415\u001b[0m     \u001b[39mraise\u001b[39;00m \u001b[39mValueError\u001b[39;00m(\n\u001b[0;32m    416\u001b[0m         \u001b[39mf\u001b[39m\u001b[39m\"\u001b[39m\u001b[39mX has \u001b[39m\u001b[39m{\u001b[39;00mn_features\u001b[39m}\u001b[39;00m\u001b[39m features, but \u001b[39m\u001b[39m{\u001b[39;00m\u001b[39mself\u001b[39m\u001b[39m.\u001b[39m\u001b[39m__class__\u001b[39m\u001b[39m.\u001b[39m\u001b[39m__name__\u001b[39m\u001b[39m}\u001b[39;00m\u001b[39m \u001b[39m\u001b[39m\"\u001b[39m\n\u001b[0;32m    417\u001b[0m         \u001b[39mf\u001b[39m\u001b[39m\"\u001b[39m\u001b[39mis expecting \u001b[39m\u001b[39m{\u001b[39;00m\u001b[39mself\u001b[39m\u001b[39m.\u001b[39mn_features_in_\u001b[39m}\u001b[39;00m\u001b[39m features as input.\u001b[39m\u001b[39m\"\u001b[39m\n\u001b[0;32m    418\u001b[0m     )\n",
      "\u001b[1;31mValueError\u001b[0m: X has 2 features, but KMeans is expecting 3 features as input."
     ]
    }
   ],
   "source": [
    "#definir region de calculo\n",
    "h = 1.5\n",
    "x_min, x_max = min(data['year']), max(data['year'])\n",
    "y_min, y_max = min(data['base_salary']), max(data['base_salary'])\n",
    "xx, yy = np.meshgrid(np.arange(x_min, x_max, h), np.arange(y_min, y_max, h)) #crear region\n",
    "stack1 = np.dstack((xx.flatten(), yy.flatten()))[0,:,:]\n",
    "y_pred = kmeans.predict(stack1) #clusterizar region\n",
    "vb = y_pred.reshape(np.shape(xx))\n",
    "plt.pcolormesh(xx, yy, vb, cmap = 'tab20')\n",
    "plt.scatter(data_with_clusters['base_salary'], data_with_clusters['year'], c=data_with_clusters['Clusters'], cmap='rainbow')"
   ]
  }
 ],
 "metadata": {
  "kernelspec": {
   "display_name": "Python 3",
   "language": "python",
   "name": "python3"
  },
  "language_info": {
   "codemirror_mode": {
    "name": "ipython",
    "version": 3
   },
   "file_extension": ".py",
   "mimetype": "text/x-python",
   "name": "python",
   "nbconvert_exporter": "python",
   "pygments_lexer": "ipython3",
   "version": "3.11.2"
  }
 },
 "nbformat": 4,
 "nbformat_minor": 2
}
