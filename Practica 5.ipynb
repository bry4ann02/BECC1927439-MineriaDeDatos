{
 "cells": [
  {
   "cell_type": "code",
   "execution_count": 124,
   "metadata": {},
   "outputs": [],
   "source": [
    "import pandas as pd \n",
    "import numpy as np\n",
    "import scipy.stats\n",
    "from scipy.stats import bartlett\n",
    "from scipy.stats import normaltest\n",
    "from scipy.stats import f_oneway\n",
    "#from statsmodels.stats.multicomp import pairwise_tukeyhsd"
   ]
  },
  {
   "cell_type": "code",
   "execution_count": 125,
   "metadata": {},
   "outputs": [
    {
     "data": {
      "text/html": [
       "<div>\n",
       "<style scoped>\n",
       "    .dataframe tbody tr th:only-of-type {\n",
       "        vertical-align: middle;\n",
       "    }\n",
       "\n",
       "    .dataframe tbody tr th {\n",
       "        vertical-align: top;\n",
       "    }\n",
       "\n",
       "    .dataframe thead th {\n",
       "        text-align: right;\n",
       "    }\n",
       "</style>\n",
       "<table border=\"1\" class=\"dataframe\">\n",
       "  <thead>\n",
       "    <tr style=\"text-align: right;\">\n",
       "      <th></th>\n",
       "      <th>club</th>\n",
       "      <th>last_name</th>\n",
       "      <th>first_name</th>\n",
       "      <th>position</th>\n",
       "      <th>base_salary</th>\n",
       "      <th>guaranteed_compensation</th>\n",
       "      <th>year</th>\n",
       "      <th>conference</th>\n",
       "    </tr>\n",
       "  </thead>\n",
       "  <tbody>\n",
       "    <tr>\n",
       "      <th>0</th>\n",
       "      <td>Vancouver Whitecaps</td>\n",
       "      <td>Abdallah</td>\n",
       "      <td>Aminu</td>\n",
       "      <td>M</td>\n",
       "      <td>46500.0</td>\n",
       "      <td>46500.00</td>\n",
       "      <td>2013</td>\n",
       "      <td>Western</td>\n",
       "    </tr>\n",
       "    <tr>\n",
       "      <th>1</th>\n",
       "      <td>FC Dallas</td>\n",
       "      <td>Acosta</td>\n",
       "      <td>Kellyn</td>\n",
       "      <td>M</td>\n",
       "      <td>46500.0</td>\n",
       "      <td>70500.00</td>\n",
       "      <td>2013</td>\n",
       "      <td>Western</td>\n",
       "    </tr>\n",
       "    <tr>\n",
       "      <th>2</th>\n",
       "      <td>Vancouver Whitecaps</td>\n",
       "      <td>Adekugbe</td>\n",
       "      <td>Samuel</td>\n",
       "      <td>D</td>\n",
       "      <td>46500.0</td>\n",
       "      <td>51500.00</td>\n",
       "      <td>2013</td>\n",
       "      <td>Western</td>\n",
       "    </tr>\n",
       "    <tr>\n",
       "      <th>3</th>\n",
       "      <td>Toronto FC</td>\n",
       "      <td>Agbossoumonde</td>\n",
       "      <td>Gale</td>\n",
       "      <td>D</td>\n",
       "      <td>46500.0</td>\n",
       "      <td>53166.67</td>\n",
       "      <td>2013</td>\n",
       "      <td>Eastern</td>\n",
       "    </tr>\n",
       "    <tr>\n",
       "      <th>4</th>\n",
       "      <td>New England Revolution</td>\n",
       "      <td>Agudelo</td>\n",
       "      <td>Juan</td>\n",
       "      <td>F</td>\n",
       "      <td>145000.0</td>\n",
       "      <td>175000.00</td>\n",
       "      <td>2013</td>\n",
       "      <td>Eastern</td>\n",
       "    </tr>\n",
       "    <tr>\n",
       "      <th>...</th>\n",
       "      <td>...</td>\n",
       "      <td>...</td>\n",
       "      <td>...</td>\n",
       "      <td>...</td>\n",
       "      <td>...</td>\n",
       "      <td>...</td>\n",
       "      <td>...</td>\n",
       "      <td>...</td>\n",
       "    </tr>\n",
       "    <tr>\n",
       "      <th>10368</th>\n",
       "      <td>Vancouver Whitecaps</td>\n",
       "      <td>Scoaupssa e Silva</td>\n",
       "      <td>Caio Alexand</td>\n",
       "      <td>M</td>\n",
       "      <td>500000.0</td>\n",
       "      <td>562500.00</td>\n",
       "      <td>2022</td>\n",
       "      <td>Western</td>\n",
       "    </tr>\n",
       "    <tr>\n",
       "      <th>10369</th>\n",
       "      <td>Vancouver Whitecaps</td>\n",
       "      <td>Tceaibpesrt</td>\n",
       "      <td>Russell</td>\n",
       "      <td>M</td>\n",
       "      <td>400000.0</td>\n",
       "      <td>449375.00</td>\n",
       "      <td>2022</td>\n",
       "      <td>Western</td>\n",
       "    </tr>\n",
       "    <tr>\n",
       "      <th>10370</th>\n",
       "      <td>Vancouver Whitecaps</td>\n",
       "      <td>Vceaspeslinovic</td>\n",
       "      <td>Ranko</td>\n",
       "      <td>D</td>\n",
       "      <td>405000.0</td>\n",
       "      <td>490500.00</td>\n",
       "      <td>2022</td>\n",
       "      <td>Western</td>\n",
       "    </tr>\n",
       "    <tr>\n",
       "      <th>10371</th>\n",
       "      <td>Vancouver Whitecaps</td>\n",
       "      <td>Vcitaeps</td>\n",
       "      <td>Pedro</td>\n",
       "      <td>M</td>\n",
       "      <td>556000.0</td>\n",
       "      <td>609997.00</td>\n",
       "      <td>2022</td>\n",
       "      <td>Western</td>\n",
       "    </tr>\n",
       "    <tr>\n",
       "      <th>10372</th>\n",
       "      <td>Vancouver Whitecaps</td>\n",
       "      <td>Wcahpites</td>\n",
       "      <td>Brian</td>\n",
       "      <td>F</td>\n",
       "      <td>456000.0</td>\n",
       "      <td>456000.00</td>\n",
       "      <td>2022</td>\n",
       "      <td>Western</td>\n",
       "    </tr>\n",
       "  </tbody>\n",
       "</table>\n",
       "<p>10373 rows × 8 columns</p>\n",
       "</div>"
      ],
      "text/plain": [
       "                         club          last_name    first_name position   \n",
       "0         Vancouver Whitecaps           Abdallah         Aminu        M  \\\n",
       "1                   FC Dallas             Acosta        Kellyn        M   \n",
       "2         Vancouver Whitecaps           Adekugbe        Samuel        D   \n",
       "3                  Toronto FC      Agbossoumonde          Gale        D   \n",
       "4      New England Revolution            Agudelo          Juan        F   \n",
       "...                       ...                ...           ...      ...   \n",
       "10368     Vancouver Whitecaps  Scoaupssa e Silva  Caio Alexand        M   \n",
       "10369     Vancouver Whitecaps        Tceaibpesrt       Russell        M   \n",
       "10370     Vancouver Whitecaps    Vceaspeslinovic         Ranko        D   \n",
       "10371     Vancouver Whitecaps           Vcitaeps         Pedro        M   \n",
       "10372     Vancouver Whitecaps          Wcahpites         Brian        F   \n",
       "\n",
       "       base_salary  guaranteed_compensation  year conference  \n",
       "0          46500.0                 46500.00  2013    Western  \n",
       "1          46500.0                 70500.00  2013    Western  \n",
       "2          46500.0                 51500.00  2013    Western  \n",
       "3          46500.0                 53166.67  2013    Eastern  \n",
       "4         145000.0                175000.00  2013    Eastern  \n",
       "...            ...                      ...   ...        ...  \n",
       "10368     500000.0                562500.00  2022    Western  \n",
       "10369     400000.0                449375.00  2022    Western  \n",
       "10370     405000.0                490500.00  2022    Western  \n",
       "10371     556000.0                609997.00  2022    Western  \n",
       "10372     456000.0                456000.00  2022    Western  \n",
       "\n",
       "[10373 rows x 8 columns]"
      ]
     },
     "execution_count": 125,
     "metadata": {},
     "output_type": "execute_result"
    }
   ],
   "source": [
    "#Se lee el dataset que usaremos\n",
    "ruta = \"C:/Users/becar/OneDrive/Escritorio/Mineria de Datos/BECC1927439-MineriaDeDatos/mls_salaries_masterlist.csv\"\n",
    "data = pd.read_csv(ruta)\n",
    "\n",
    "\n",
    "\n",
    "df = pd.DataFrame(data) \n",
    "df"
   ]
  },
  {
   "cell_type": "code",
   "execution_count": 126,
   "metadata": {},
   "outputs": [
    {
     "data": {
      "text/plain": [
       "(9382, 8)"
      ]
     },
     "execution_count": 126,
     "metadata": {},
     "output_type": "execute_result"
    }
   ],
   "source": [
    "#Se eliminan los datos NA\n",
    "df.isna().sum()\n",
    "df.shape\n",
    "df = df.dropna()\n",
    "df.shape"
   ]
  },
  {
   "cell_type": "code",
   "execution_count": 127,
   "metadata": {},
   "outputs": [
    {
     "name": "stdout",
     "output_type": "stream",
     "text": [
      "p = 0\n",
      "No hay normalidad\n"
     ]
    }
   ],
   "source": [
    "#Prueba de normalidad 1\n",
    "S,p = normaltest(df['base_salary'])\n",
    "alfa = 0.05\n",
    "print('p = {:g}'.format(p))\n",
    "\n",
    "if p<alfa:\n",
    "    print('No hay normalidad')\n",
    "else:\n",
    "    print('Hay normalidad')"
   ]
  },
  {
   "cell_type": "code",
   "execution_count": 128,
   "metadata": {},
   "outputs": [
    {
     "name": "stdout",
     "output_type": "stream",
     "text": [
      "p = 0\n",
      "No hay normalidad\n"
     ]
    }
   ],
   "source": [
    "#Prueba de normalidad 2\n",
    "S,p = normaltest(df['guaranteed_compensation'])\n",
    "alfa = 0.05\n",
    "print('p = {:g}'.format(p))\n",
    "\n",
    "if p<alfa:\n",
    "    print('No hay normalidad')\n",
    "else:\n",
    "    print('Hay normalidad')"
   ]
  },
  {
   "cell_type": "code",
   "execution_count": 129,
   "metadata": {},
   "outputs": [
    {
     "name": "stdout",
     "output_type": "stream",
     "text": [
      "p = 1.30815e-35\n",
      "No hay normalidad\n"
     ]
    }
   ],
   "source": [
    "#Prueba de homocedasticidad\n",
    "alfa = 0.05\n",
    "Stat,p = bartlett(df['base_salary'], df['guaranteed_compensation'])\n",
    "print('p = {:g}'.format(p))\n",
    "\n",
    "if p<alfa:\n",
    "    print('No hay normalidad')\n",
    "else:\n",
    "    print('Hay normalidad')\n"
   ]
  },
  {
   "cell_type": "code",
   "execution_count": 131,
   "metadata": {},
   "outputs": [
    {
     "name": "stdout",
     "output_type": "stream",
     "text": [
      "Fc = 13.1001 >= F = 3.84191 p = 0.000296049\n",
      "Hay evidencia para rechazar Ho, por lo que podemos suponer que al menos una de las medias es diferente\n"
     ]
    }
   ],
   "source": [
    "#ANDEVA\n",
    "\n",
    "#Ho: todas las medias son iguales \n",
    "#Ha: al menos una de las medias es diferente\n",
    "\n",
    "#Criterio: Fc<F entonces Ho es verdadero\n",
    "# y si Fc>= F entonces Ho no es verdadero \n",
    "\n",
    "Fc , p = f_oneway(df['base_salary'].values, df['guaranteed_compensation'].values)\n",
    "\n",
    "#Grados de libertad: k=numero de factores, N= 20746\n",
    "# numerDOR = k-1<- (2-1) y el denom = N-k <-- (20746-2)\n",
    "de = 20746-2\n",
    "nu = 2-1\n",
    "import scipy.stats\n",
    "\n",
    "F = scipy.stats.f.ppf(q=1-0.05, dfn=nu, dfd=de)\n",
    "\n",
    "if Fc < F:\n",
    "    print('Fc = {:g}'.format(Fc), '<', 'F = {:g}'.format(F), 'p = {:g}'.format(p))\n",
    "    print('No hay evidencia para rechazar Ho, por lo que se supone que no hay diferencia entre medias')\n",
    "else:\n",
    "    print('Fc = {:g}'.format(Fc), '>=', 'F = {:g}'.format(F), 'p = {:g}'.format(p))\n",
    "    print('Hay evidencia para rechazar Ho, por lo que podemos suponer que al menos una de las medias es diferente')"
   ]
  }
 ],
 "metadata": {
  "kernelspec": {
   "display_name": "Python 3",
   "language": "python",
   "name": "python3"
  },
  "language_info": {
   "codemirror_mode": {
    "name": "ipython",
    "version": 3
   },
   "file_extension": ".py",
   "mimetype": "text/x-python",
   "name": "python",
   "nbconvert_exporter": "python",
   "pygments_lexer": "ipython3",
   "version": "3.11.2"
  }
 },
 "nbformat": 4,
 "nbformat_minor": 2
}
